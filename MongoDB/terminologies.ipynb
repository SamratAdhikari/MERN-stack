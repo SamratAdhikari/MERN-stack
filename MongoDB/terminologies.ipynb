{
 "cells": [
  {
   "cell_type": "markdown",
   "metadata": {},
   "source": [
    "### SQL\n",
    "* Database\n",
    "* Table\n",
    "* Row\n",
    "* Column\n",
    "* Record\n",
    "* JSON\n",
    "* can only store structured data"
   ]
  },
  {
   "cell_type": "markdown",
   "metadata": {},
   "source": [
    "### NoSQL\n",
    "* Database\n",
    "* Collection/Table\n",
    "* Document\n",
    "* Field\n",
    "* Record\n",
    "* BSON (Binary Object Notation)\n",
    "* can store structured as well as unstructured data"
   ]
  }
 ],
 "metadata": {
  "language_info": {
   "name": "python"
  }
 },
 "nbformat": 4,
 "nbformat_minor": 2
}
